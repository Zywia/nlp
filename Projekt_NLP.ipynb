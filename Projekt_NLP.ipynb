{
  "nbformat": 4,
  "nbformat_minor": 0,
  "metadata": {
    "colab": {
      "name": "Projekt_NLP.ipynb",
      "provenance": [],
      "toc_visible": true,
      "machine_shape": "hm"
    },
    "kernelspec": {
      "name": "python3",
      "display_name": "Python 3"
    },
    "accelerator": "GPU"
  },
  "cells": [
    {
      "cell_type": "code",
      "metadata": {
        "id": "alSs4gCqc7P_",
        "colab_type": "code",
        "colab": {
          "base_uri": "https://localhost:8080/",
          "height": 129
        },
        "outputId": "75646a6e-1a6d-4090-eea4-dca68b28be72"
      },
      "source": [
        "from google.colab import drive\n",
        "drive.mount('/content/drive')"
      ],
      "execution_count": null,
      "outputs": [
        {
          "output_type": "stream",
          "text": [
            "Go to this URL in a browser: https://accounts.google.com/o/oauth2/auth?client_id=947318989803-6bn6qk8qdgf4n4g3pfee6491hc0brc4i.apps.googleusercontent.com&redirect_uri=urn%3aietf%3awg%3aoauth%3a2.0%3aoob&response_type=code&scope=email%20https%3a%2f%2fwww.googleapis.com%2fauth%2fdocs.test%20https%3a%2f%2fwww.googleapis.com%2fauth%2fdrive%20https%3a%2f%2fwww.googleapis.com%2fauth%2fdrive.photos.readonly%20https%3a%2f%2fwww.googleapis.com%2fauth%2fpeopleapi.readonly\n",
            "\n",
            "Enter your authorization code:\n",
            "··········\n",
            "Mounted at /content/drive\n"
          ],
          "name": "stdout"
        }
      ]
    },
    {
      "cell_type": "code",
      "metadata": {
        "id": "pKmrD8rOdO_X",
        "colab_type": "code",
        "colab": {
          "base_uri": "https://localhost:8080/",
          "height": 35
        },
        "outputId": "0f8ff1ae-e3a3-4211-c019-1e7e95632348"
      },
      "source": [
        "from pathlib import Path\n",
        "\n",
        "mnt_path = \"/conte/drive/\"\n",
        "\n",
        "Path(mnt_path).glob(\"*/UJ/\")"
      ],
      "execution_count": null,
      "outputs": [
        {
          "output_type": "execute_result",
          "data": {
            "text/plain": [
              "<generator object Path.glob at 0x7f9f473e48e0>"
            ]
          },
          "metadata": {
            "tags": []
          },
          "execution_count": 2
        }
      ]
    },
    {
      "cell_type": "code",
      "metadata": {
        "id": "dJF0hfD2d4pI",
        "colab_type": "code",
        "colab": {
          "base_uri": "https://localhost:8080/",
          "height": 35
        },
        "outputId": "5f272e50-108a-4bd1-b0b8-4f56b36dacc5"
      },
      "source": [
        "!ls /content/drive/My\\ Drive/UJ/NLP/project\n",
        "\n",
        "working_dir = r\"/content/drive/My Drive/UJ/NLP/project/\"\n"
      ],
      "execution_count": null,
      "outputs": [
        {
          "output_type": "stream",
          "text": [
            " dev.txt  'Files description.gdoc'   test.txt   train.txt   word_vectors.txt\n"
          ],
          "name": "stdout"
        }
      ]
    },
    {
      "cell_type": "code",
      "metadata": {
        "id": "tdAnHVCth1aC",
        "colab_type": "code",
        "colab": {}
      },
      "source": [
        "import pandas as pd\n",
        "\n",
        "files = [\"train.txt\", \"test.txt\", \"dev.txt\"]\n",
        "\n",
        "d = [pd.read_csv( working_dir + x,sep=\"\\t\") for x in files ]\n",
        "d = pd.concat(d)[[\"gold_label\", \"sentence1\", \"sentence2\"]]\n",
        "not_interesting = d[ d.gold_label == '-']\n",
        "d = d[ d.gold_label != '-']\n",
        "\n",
        "letsDoSth = pd.read_csv( working_dir + \"train.txt\",sep=\"\\t\")\n",
        "newD = letsDoSth[ letsDoSth.gold_label != '-'][[\"gold_label\", \"sentence1\", \"sentence2\"]]\n",
        "\n",
        "validData = pd.read_csv(working_dir + \"dev.txt\", sep=\"\\t\")\n",
        "validData = validData[validData.gold_label != '-'][[\"gold_label\", \"sentence1\", \"sentence2\"]]\n",
        "\n",
        "testData = pd.read_csv(working_dir + \"test.txt\", sep=\"\\t\")\n",
        "testData = testData[testData.gold_label != '-'][[\"gold_label\", \"sentence1\", \"sentence2\"]]\n"
      ],
      "execution_count": null,
      "outputs": []
    },
    {
      "cell_type": "markdown",
      "metadata": {
        "id": "yQ1_fNnwe5CS",
        "colab_type": "text"
      },
      "source": [
        "# 10 sentences that were removed\n"
      ]
    },
    {
      "cell_type": "code",
      "metadata": {
        "id": "NTKKjWAMe_Xb",
        "colab_type": "code",
        "colab": {
          "base_uri": "https://localhost:8080/",
          "height": 206
        },
        "outputId": "71661a46-7857-4a38-b499-8ece57ffb51d"
      },
      "source": [
        "pd.set_option('display.max_colwidth', -1)\n",
        "not_interesting[[ \"sentence1\", \"sentence2\"]].head()"
      ],
      "execution_count": null,
      "outputs": [
        {
          "output_type": "execute_result",
          "data": {
            "text/html": [
              "<div>\n",
              "<style scoped>\n",
              "    .dataframe tbody tr th:only-of-type {\n",
              "        vertical-align: middle;\n",
              "    }\n",
              "\n",
              "    .dataframe tbody tr th {\n",
              "        vertical-align: top;\n",
              "    }\n",
              "\n",
              "    .dataframe thead th {\n",
              "        text-align: right;\n",
              "    }\n",
              "</style>\n",
              "<table border=\"1\" class=\"dataframe\">\n",
              "  <thead>\n",
              "    <tr style=\"text-align: right;\">\n",
              "      <th></th>\n",
              "      <th>sentence1</th>\n",
              "      <th>sentence2</th>\n",
              "    </tr>\n",
              "  </thead>\n",
              "  <tbody>\n",
              "    <tr>\n",
              "      <th>156</th>\n",
              "      <td>A woman wearing a pink hat is looking at a pink car with the truck open.</td>\n",
              "      <td>The woman is wearing clothes.</td>\n",
              "    </tr>\n",
              "    <tr>\n",
              "      <th>518</th>\n",
              "      <td>A man in a white jacket standing in front of an older woman in a white jacket playing crochet.</td>\n",
              "      <td>The man was playing crochet with the two women.</td>\n",
              "    </tr>\n",
              "    <tr>\n",
              "      <th>1250</th>\n",
              "      <td>A man with red earphones is working on a red and white painted hot rod from Team ACE Racing.</td>\n",
              "      <td>A man in earphones is fixing a broken hotrod.</td>\n",
              "    </tr>\n",
              "    <tr>\n",
              "      <th>2082</th>\n",
              "      <td>A boy and a girl are walking in a mall.</td>\n",
              "      <td>A girl and a boy walking inside</td>\n",
              "    </tr>\n",
              "    <tr>\n",
              "      <th>2186</th>\n",
              "      <td>A man with sunglasses on his head is standing by signs for the Wharf and ferry terminal.</td>\n",
              "      <td>A guy and his pets are waiting by the terminal.</td>\n",
              "    </tr>\n",
              "  </tbody>\n",
              "</table>\n",
              "</div>"
            ],
            "text/plain": [
              "                                                                                           sentence1                                        sentence2\n",
              "156   A woman wearing a pink hat is looking at a pink car with the truck open.                        The woman is wearing clothes.                  \n",
              "518   A man in a white jacket standing in front of an older woman in a white jacket playing crochet.  The man was playing crochet with the two women.\n",
              "1250  A man with red earphones is working on a red and white painted hot rod from Team ACE Racing.    A man in earphones is fixing a broken hotrod.  \n",
              "2082  A boy and a girl are walking in a mall.                                                         A girl and a boy walking inside                \n",
              "2186  A man with sunglasses on his head is standing by signs for the Wharf and ferry terminal.        A guy and his pets are waiting by the terminal."
            ]
          },
          "metadata": {
            "tags": []
          },
          "execution_count": 5
        }
      ]
    },
    {
      "cell_type": "code",
      "metadata": {
        "id": "Z_JAD0voi-UG",
        "colab_type": "code",
        "colab": {
          "base_uri": "https://localhost:8080/",
          "height": 74
        },
        "outputId": "c4bad7be-5336-4b83-9c81-a9f37fb67e79"
      },
      "source": [
        "from gensim.models import KeyedVectors\n",
        "# from semantic_tests import semantic_tests\n",
        "from gensim.scripts.glove2word2vec import glove2word2vec\n",
        "from gensim.test.utils import datapath, get_tmpfile\n",
        "\n",
        "glove_file = datapath(working_dir + 'word_vectors.txt')\n",
        "tmp_file = get_tmpfile(\"test_word2vec.txt\")\n",
        "\n",
        "_ = glove2word2vec(glove_file, tmp_file)\n",
        "\n",
        "model = KeyedVectors.load_word2vec_format(tmp_file)"
      ],
      "execution_count": null,
      "outputs": [
        {
          "output_type": "stream",
          "text": [
            "/usr/local/lib/python3.6/dist-packages/smart_open/smart_open_lib.py:402: UserWarning: This function is deprecated, use smart_open.open instead. See the migration notes for details: https://github.com/RaRe-Technologies/smart_open/blob/master/README.rst#migrating-to-the-new-open-function\n",
            "  'See the migration notes for details: %s' % _MIGRATION_NOTES_URL\n"
          ],
          "name": "stderr"
        }
      ]
    },
    {
      "cell_type": "markdown",
      "metadata": {
        "id": "yLRmngShJlDO",
        "colab_type": "text"
      },
      "source": [
        "## Calculate set of words used in all files"
      ]
    },
    {
      "cell_type": "code",
      "metadata": {
        "id": "HowaLYSykYoY",
        "colab_type": "code",
        "colab": {
          "base_uri": "https://localhost:8080/",
          "height": 54
        },
        "outputId": "bbca9721-c6b2-48b1-c99c-1b9998a46113"
      },
      "source": [
        "from nltk.tokenize import word_tokenize\n",
        "import nltk\n",
        "import numpy as np\n",
        "nltk.download('punkt')\n",
        "\n",
        "\n",
        "data =  { x.lower() for y in list(map(word_tokenize,d[[\"sentence1\", \"sentence2\"]].to_numpy().ravel())) for x in y }"
      ],
      "execution_count": null,
      "outputs": [
        {
          "output_type": "stream",
          "text": [
            "[nltk_data] Downloading package punkt to /root/nltk_data...\n",
            "[nltk_data]   Unzipping tokenizers/punkt.zip.\n"
          ],
          "name": "stdout"
        }
      ]
    },
    {
      "cell_type": "markdown",
      "metadata": {
        "id": "3LikdnwHf4Ki",
        "colab_type": "text"
      },
      "source": [
        "#number of unique words\n"
      ]
    },
    {
      "cell_type": "code",
      "metadata": {
        "id": "-4F-VlpcgB8K",
        "colab_type": "code",
        "colab": {
          "base_uri": "https://localhost:8080/",
          "height": 35
        },
        "outputId": "88af8b32-1d37-4387-bb39-ef2315fa682a"
      },
      "source": [
        "len (data)"
      ],
      "execution_count": null,
      "outputs": [
        {
          "output_type": "execute_result",
          "data": {
            "text/plain": [
              "23759"
            ]
          },
          "metadata": {
            "tags": []
          },
          "execution_count": 8
        }
      ]
    },
    {
      "cell_type": "markdown",
      "metadata": {
        "id": "g7Ii1rchJ-AG",
        "colab_type": "text"
      },
      "source": [
        "## Create embedding\n"
      ]
    },
    {
      "cell_type": "code",
      "metadata": {
        "id": "VUA8x4iUEyiv",
        "colab_type": "code",
        "colab": {}
      },
      "source": [
        "listOfAllWords = list(data)\n",
        "listOfAllWords = [\"<bos>\", \"<pad>\", \"<eos>\"] + listOfAllWords \n",
        "encoding = np.zeros((len(listOfAllWords) + 3, 200))\n",
        "\n",
        "unk = np.random.randn(200)\n",
        "bos = np.ones(200) * (-1.)\n",
        "\n",
        "\n",
        "\n",
        "for x, word in enumerate (listOfAllWords):\n",
        "  try:\n",
        "    encoding[x] = model[word]\n",
        "  except:\n",
        "    encoding[x] = unk\n",
        "\n",
        "bosTokenIndex = 0\n",
        "padTokenIndex = 1\n",
        "eosTokenIndex = 2\n",
        "\n",
        "encoding[bosTokenIndex] = np.ones(200) * (-1.)\n",
        "encoding[padTokenIndex] = np.zeros(200, dtype='float32')\n",
        "encoding[eosTokenIndex] = np.ones(200)\n",
        "\n",
        "listOfAllWords = {word : x for x, word in enumerate(listOfAllWords)}\n"
      ],
      "execution_count": null,
      "outputs": []
    },
    {
      "cell_type": "code",
      "metadata": {
        "id": "MX4xR6S1p5bz",
        "colab_type": "code",
        "colab": {
          "base_uri": "https://localhost:8080/",
          "height": 35
        },
        "outputId": "3102cbce-8056-482a-b7d1-569a43969b45"
      },
      "source": [
        "all(model['the'] ==  encoding[listOfAllWords['the']])"
      ],
      "execution_count": null,
      "outputs": [
        {
          "output_type": "execute_result",
          "data": {
            "text/plain": [
              "True"
            ]
          },
          "metadata": {
            "tags": []
          },
          "execution_count": 10
        }
      ]
    },
    {
      "cell_type": "code",
      "metadata": {
        "id": "LAbG4v7NS_1w",
        "colab_type": "code",
        "colab": {
          "base_uri": "https://localhost:8080/",
          "height": 35
        },
        "outputId": "97a9ae43-6713-476e-f651-a5d299781f7a"
      },
      "source": [
        "import torch\n",
        "import torch.autograd as autograd\n",
        "import torch.nn as nn\n",
        "import matplotlib.pyplot as plt\n",
        "\n",
        "\n",
        "\n",
        "embedding = nn.Embedding (len(encoding), 200)\n",
        "embedding.load_state_dict({'weight': torch.from_numpy(encoding)})"
      ],
      "execution_count": null,
      "outputs": [
        {
          "output_type": "execute_result",
          "data": {
            "text/plain": [
              "<All keys matched successfully>"
            ]
          },
          "metadata": {
            "tags": []
          },
          "execution_count": 11
        }
      ]
    },
    {
      "cell_type": "code",
      "metadata": {
        "id": "REO1N-BEDatX",
        "colab_type": "code",
        "colab": {
          "base_uri": "https://localhost:8080/",
          "height": 54
        },
        "outputId": "fee8d1d8-976f-4677-8ee8-d702cc3d721e"
      },
      "source": [
        "def to_lowercase(words):\n",
        "  new_words = []\n",
        "\n",
        "  for word in words:\n",
        "    new_words.append(word.lower())\n",
        "  \n",
        "  return new_words\n",
        "\n",
        "def bake(words):\n",
        "  out = np.ones(84, dtype ='int64')\n",
        "  listT = [bosTokenIndex] + [ listOfAllWords[x] for x in words] + [eosTokenIndex]\n",
        "  out[:len(listT)] = listT\n",
        "  return out  \n",
        "\n",
        "word_vectors = model.wv\n",
        "\n",
        "\n",
        "def count_words(words):\n",
        "  is_in_word_vectors = [ x in word_vectors for x in words]\n",
        "  sum_of_words_in_word_vectors = sum(is_in_word_vectors)\n",
        "  return np.array([ len(words) , len(words) - sum_of_words_in_word_vectors] )\n",
        "  "
      ],
      "execution_count": null,
      "outputs": [
        {
          "output_type": "stream",
          "text": [
            "/usr/local/lib/python3.6/dist-packages/ipykernel_launcher.py:15: DeprecationWarning: Call to deprecated `wv` (Attribute will be removed in 4.0.0, use self instead).\n",
            "  from ipykernel import kernelapp as app\n"
          ],
          "name": "stderr"
        }
      ]
    },
    {
      "cell_type": "code",
      "metadata": {
        "id": "Rt8MlFeZgV90",
        "colab_type": "code",
        "colab": {}
      },
      "source": [
        "d['count_words'] = d.sentence1.apply(word_tokenize).apply(to_lowercase).apply(count_words)"
      ],
      "execution_count": null,
      "outputs": []
    },
    {
      "cell_type": "code",
      "metadata": {
        "id": "lKWB8dUzis5o",
        "colab_type": "code",
        "colab": {
          "base_uri": "https://localhost:8080/",
          "height": 206
        },
        "outputId": "72dbe977-3f6c-4075-9c19-22bcaaef475b"
      },
      "source": [
        "d[[\"sentence1\", \"count_words\" ]].head(5)"
      ],
      "execution_count": null,
      "outputs": [
        {
          "output_type": "execute_result",
          "data": {
            "text/html": [
              "<div>\n",
              "<style scoped>\n",
              "    .dataframe tbody tr th:only-of-type {\n",
              "        vertical-align: middle;\n",
              "    }\n",
              "\n",
              "    .dataframe tbody tr th {\n",
              "        vertical-align: top;\n",
              "    }\n",
              "\n",
              "    .dataframe thead th {\n",
              "        text-align: right;\n",
              "    }\n",
              "</style>\n",
              "<table border=\"1\" class=\"dataframe\">\n",
              "  <thead>\n",
              "    <tr style=\"text-align: right;\">\n",
              "      <th></th>\n",
              "      <th>sentence1</th>\n",
              "      <th>count_words</th>\n",
              "    </tr>\n",
              "  </thead>\n",
              "  <tbody>\n",
              "    <tr>\n",
              "      <th>0</th>\n",
              "      <td>Children smiling and waving at camera</td>\n",
              "      <td>[6, 0]</td>\n",
              "    </tr>\n",
              "    <tr>\n",
              "      <th>1</th>\n",
              "      <td>A boy is jumping on skateboard in the middle of a red bridge.</td>\n",
              "      <td>[14, 0]</td>\n",
              "    </tr>\n",
              "    <tr>\n",
              "      <th>2</th>\n",
              "      <td>Two blond women are hugging one another.</td>\n",
              "      <td>[8, 0]</td>\n",
              "    </tr>\n",
              "    <tr>\n",
              "      <th>3</th>\n",
              "      <td>An older man is drinking orange juice at a restaurant.</td>\n",
              "      <td>[11, 0]</td>\n",
              "    </tr>\n",
              "    <tr>\n",
              "      <th>4</th>\n",
              "      <td>A man with blond-hair, and a brown shirt drinking out of a public water fountain.</td>\n",
              "      <td>[17, 1]</td>\n",
              "    </tr>\n",
              "  </tbody>\n",
              "</table>\n",
              "</div>"
            ],
            "text/plain": [
              "                                                                           sentence1 count_words\n",
              "0  Children smiling and waving at camera                                              [6, 0]    \n",
              "1  A boy is jumping on skateboard in the middle of a red bridge.                      [14, 0]   \n",
              "2  Two blond women are hugging one another.                                           [8, 0]    \n",
              "3  An older man is drinking orange juice at a restaurant.                             [11, 0]   \n",
              "4  A man with blond-hair, and a brown shirt drinking out of a public water fountain.  [17, 1]   "
            ]
          },
          "metadata": {
            "tags": []
          },
          "execution_count": 14
        }
      ]
    },
    {
      "cell_type": "code",
      "metadata": {
        "id": "mOcUFeqcl2Od",
        "colab_type": "code",
        "colab": {
          "base_uri": "https://localhost:8080/",
          "height": 35
        },
        "outputId": "71731f78-a18a-4208-bde6-78f8d83415c1"
      },
      "source": [
        "d.count_words.sum()"
      ],
      "execution_count": null,
      "outputs": [
        {
          "output_type": "execute_result",
          "data": {
            "text/plain": [
              "array([1838383,    4187])"
            ]
          },
          "metadata": {
            "tags": []
          },
          "execution_count": 15
        }
      ]
    },
    {
      "cell_type": "code",
      "metadata": {
        "id": "4NEkFjID37il",
        "colab_type": "code",
        "colab": {}
      },
      "source": [
        "newD[\"sentence1tokenized\"] = newD.sentence1.apply(word_tokenize).apply(to_lowercase).apply(bake)\n",
        "newD[\"sentence2tokenized\"] = newD.sentence2.apply(word_tokenize).apply(to_lowercase).apply(bake)\n",
        "testData[\"sentence1tokenized\"] = testData.sentence1.apply(word_tokenize).apply(to_lowercase).apply(bake)\n",
        "testData[\"sentence2tokenized\"] = testData.sentence2.apply(word_tokenize).apply(to_lowercase).apply(bake)\n",
        "validData[\"sentence1tokenized\"] = validData.sentence1.apply(word_tokenize).apply(to_lowercase).apply(bake)\n",
        "validData[\"sentence2tokenized\"] = validData.sentence2.apply(word_tokenize).apply(to_lowercase).apply(bake)"
      ],
      "execution_count": null,
      "outputs": []
    },
    {
      "cell_type": "markdown",
      "metadata": {
        "id": "Hns7dTjOjJWD",
        "colab_type": "text"
      },
      "source": [
        "##Labels, One hot\n"
      ]
    },
    {
      "cell_type": "code",
      "metadata": {
        "id": "W330mhT_jM93",
        "colab_type": "code",
        "colab": {}
      },
      "source": [
        "labels = {'neutral': 0, 'contradiction': 1, 'entailment': 2}"
      ],
      "execution_count": null,
      "outputs": []
    },
    {
      "cell_type": "markdown",
      "metadata": {
        "id": "dRp8CCbeCeva",
        "colab_type": "text"
      },
      "source": [
        "#Model\n"
      ]
    },
    {
      "cell_type": "code",
      "metadata": {
        "id": "2jK9wvzSCgsE",
        "colab_type": "code",
        "colab": {}
      },
      "source": [
        "class Encoder(nn.Module):\n",
        "  def __init__(self, embedding, bathSize = 32):\n",
        "      super(Encoder, self).__init__()\n",
        "      self.bathSize = bathSize\n",
        "      self.lstm = nn.LSTM(\n",
        "            input_size=200,\n",
        "            hidden_size=200,\n",
        "            num_layers=1,\n",
        "            bidirectional=False,\n",
        "      )\n",
        "      self.embedding = embedding\n",
        "\n",
        "\n",
        "  def __listOfBorders(self, torchTensors):\n",
        "    return torch.tensor ([(x == 2).nonzero()[0] + 1 for x in torchTensors] )\n",
        "\n",
        "  def __toTorchTensors(self, __fromPundas):\n",
        "      initS = torch.ones(self.bathSize, 84, dtype=torch.long)\n",
        "      betwen = [torch.from_numpy(x) for x in __fromPundas.to_numpy()]\n",
        "     \n",
        "      for x, tok in enumerate (betwen):\n",
        "        initS[x] = tok \n",
        "\n",
        "      return initS\n",
        "    \n",
        "\n",
        "  def forward(self, batched_tokens):\n",
        "    temp = self.__toTorchTensors(batched_tokens)\n",
        "    x = self.embedding(temp)\n",
        "    x = nn.utils.rnn.pack_padded_sequence(x, self.__listOfBorders(temp), batch_first=True,  enforce_sorted=False)\n",
        "\n",
        "    _outputs, (final_hidden, _final_cell) = self.lstm(x)\n",
        "    return final_hidden[0]\n",
        "    "
      ],
      "execution_count": null,
      "outputs": []
    },
    {
      "cell_type": "code",
      "metadata": {
        "id": "BmnrtQg1dYiD",
        "colab_type": "code",
        "colab": {}
      },
      "source": [
        "import torch.nn.functional as F\n",
        "\n",
        "class FullyConnected(nn.Module):\n",
        "  def __init__(self, bathSize = 32):\n",
        "    super(FullyConnected, self).__init__()\n",
        "    self.bathSize = bathSize\n",
        "    self.layer1 = nn.Linear(400, 200)\n",
        "    self.layer2 = nn.Linear(200,3)\n",
        "    self.end = nn.Softmax(dim=1)\n",
        "\n",
        "  def forward(self, x):\n",
        "    x = F.relu(self.layer1(x))\n",
        "    return self.end(self.layer2(x))\n",
        "\n",
        "def toOneHot(labelsT):\n",
        "  labels = {'neutral': 0, 'contradiction': 1, 'entailment': 2}\n",
        "\n",
        "  tensor = torch.zeros(len(labelsT), 3)\n",
        "  for x, lab in enumerate(labelsT):\n",
        "    tensor[x, labels[lab]] = 1\n",
        "\n",
        "  return tensor\n",
        "    "
      ],
      "execution_count": null,
      "outputs": []
    },
    {
      "cell_type": "code",
      "metadata": {
        "id": "h9hZXMX2v8-I",
        "colab_type": "code",
        "colab": {}
      },
      "source": [
        "class WholeCombined(nn.Module):\n",
        "    def __init__(self, embedding, bathSize = 32):\n",
        "      super(WholeCombined, self).__init__()\n",
        "      self.encoderFirstSen = Encoder(embedding, bathSize=bathSize)\n",
        "      self.encoderSecondSen = Encoder(embedding, bathSize=bathSize)\n",
        "      self.fullyConnected = FullyConnected(bathSize=bathSize)\n",
        "\n",
        "\n",
        "    def forward(self, x1, x2):\n",
        "      nx1 = self.encoderFirstSen.forward(x1)\n",
        "      nx2 = self.encoderSecondSen.forward(x2)\n",
        "\n",
        "      return self.fullyConnected(torch.cat((nx1, nx2), dim=1))\n",
        "\n"
      ],
      "execution_count": null,
      "outputs": []
    },
    {
      "cell_type": "code",
      "metadata": {
        "id": "ysgXpYy16rHt",
        "colab_type": "code",
        "colab": {}
      },
      "source": [
        "def test_accuracy(model, model_bath_size, data_set_to_test):\n",
        "  x_begin = 0\n",
        "\n",
        "  it = 0\n",
        "  finalResult = 0\n",
        "\n",
        "  for x in range(model_bath_size, len(data_set_to_test), model_bath_size ):\n",
        "    it += 1\n",
        "    testujemy = torch.argmax(model.forward(data_set_to_test.iloc[x_begin:x].sentence1tokenized, data_set_to_test.iloc[x_begin:x].sentence2tokenized) , dim=1).tolist()\n",
        "    result = sum( [a == b  for a, b in zip(testujemy, [labels[a] for a in data_set_to_test.gold_label.iloc[x_begin:x].to_list()])] )\n",
        "    \n",
        "    finalResult += result\n",
        "    x_begin = x\n",
        "\n",
        "  return finalResult / (it * model_bath_size) * 100 \n"
      ],
      "execution_count": null,
      "outputs": []
    },
    {
      "cell_type": "markdown",
      "metadata": {
        "id": "Odj3nx-jKo9R",
        "colab_type": "text"
      },
      "source": [
        "#Function that saves weights\n"
      ]
    },
    {
      "cell_type": "code",
      "metadata": {
        "id": "eOeGEhrUKGrR",
        "colab_type": "code",
        "colab": {}
      },
      "source": [
        "def save_weights(model, accuracy):\n",
        "  PATH = ('net_accuracy_%.2f.pth' % (accuracy) ).replace( '.', '_', 1)\n",
        "  torch.save(model.state_dict(), PATH)"
      ],
      "execution_count": null,
      "outputs": []
    },
    {
      "cell_type": "markdown",
      "metadata": {
        "id": "PDqw1SkEMCoA",
        "colab_type": "text"
      },
      "source": [
        "#Function that loads weights\n"
      ]
    },
    {
      "cell_type": "code",
      "metadata": {
        "id": "OYKwwCWVKzwa",
        "colab_type": "code",
        "colab": {}
      },
      "source": [
        "def load_weights(PATH, bath_size=32):\n",
        "  net = WholeCombined(embedding, bathSize=bath_size)\n",
        "  net.load_state_dict(torch.load(PATH))\n",
        "  return net\n"
      ],
      "execution_count": null,
      "outputs": []
    },
    {
      "cell_type": "code",
      "metadata": {
        "id": "419SQKAAuWGW",
        "colab_type": "code",
        "colab": {}
      },
      "source": [
        "import torch.optim as optim\n",
        "\n",
        "\n",
        "model_bath_size = 64\n",
        "att = WholeCombined(embedding, bathSize=model_bath_size)\n",
        "criterion = nn.MSELoss()\n",
        "optimizer = optim.Adam(att.parameters() )\n",
        "\n",
        "fA = FullyConnected()"
      ],
      "execution_count": null,
      "outputs": []
    },
    {
      "cell_type": "code",
      "metadata": {
        "id": "NixNWSA9F689",
        "colab_type": "code",
        "colab": {
          "base_uri": "https://localhost:8080/",
          "height": 586
        },
        "outputId": "5b08cde8-3eab-4163-92fb-3d83a269e6d0"
      },
      "source": [
        "import matplotlib.pyplot as plt\n",
        "\n",
        "\n",
        "for y in range(2):\n",
        "  x_begin = 0\n",
        "  losses = []\n",
        "\n",
        "  for x in range(model_bath_size, len(newD), model_bath_size ):\n",
        "  \n",
        "\n",
        "    optimizer.zero_grad()\n",
        "    working_part = newD.iloc[x_begin:x]\n",
        "    outputs = att(working_part.sentence1tokenized, \n",
        "    working_part.sentence2tokenized )\n",
        "    loss = criterion (outputs, toOneHot(working_part.gold_label.tolist()) )\n",
        "    loss.backward()\n",
        "    optimizer.step()\n",
        "    losses.append(loss.item())\n",
        "\n",
        "    x_begin = x\n",
        "  accuracy = test_accuracy(att,model_bath_size, validData)\n",
        "  print (\"accuracy of current epoch : \", accuracy)\n",
        "  save_weights(att, accuracy)\n",
        "  plt.figure(y)\n",
        "  plt.plot(losses)\n",
        "  plt.show()\n",
        "  print ( 'epoch finished', y )"
      ],
      "execution_count": null,
      "outputs": [
        {
          "output_type": "stream",
          "text": [
            "accuracy of current epoch :  65.26756535947712\n"
          ],
          "name": "stdout"
        },
        {
          "output_type": "display_data",
          "data": {
            "image/png": "[encoded data removed]",
            "text/plain": [
              "<Figure size 432x288 with 1 Axes>"
            ]
          },
          "metadata": {
            "tags": []
          }
        },
        {
          "output_type": "stream",
          "text": [
            "epoch finished 0\n",
            "accuracy of current epoch :  68.72957516339869\n"
          ],
          "name": "stdout"
        },
        {
          "output_type": "display_data",
          "data": {
            "image/png": "[encoded data removed]",
            "text/plain": [
              "<Figure size 432x288 with 1 Axes>"
            ]
          },
          "metadata": {
            "tags": []
          }
        },
        {
          "output_type": "stream",
          "text": [
            "epoch finished 1\n"
          ],
          "name": "stdout"
        }
      ]
    },
    {
      "cell_type": "code",
      "metadata": {
        "id": "A_BBT_L-9dgj",
        "colab_type": "code",
        "colab": {
          "base_uri": "https://localhost:8080/",
          "height": 35
        },
        "outputId": "48f75d03-ef8f-42a1-ae4f-12e4861cfad9"
      },
      "source": [
        "test_accuracy(att, model_bath_size, validData)"
      ],
      "execution_count": null,
      "outputs": [
        {
          "output_type": "execute_result",
          "data": {
            "text/plain": [
              "68.09640522875817"
            ]
          },
          "metadata": {
            "tags": []
          },
          "execution_count": 26
        }
      ]
    },
    {
      "cell_type": "code",
      "metadata": {
        "id": "DcHFZVj4Is1T",
        "colab_type": "code",
        "colab": {
          "base_uri": "https://localhost:8080/",
          "height": 35
        },
        "outputId": "bf6f4eec-a31d-48f1-f049-446fea36030f"
      },
      "source": [
        "newModel = load_weights('net_accuracy_68_73.pth',64)\n",
        "test_accuracy(newModel, model_bath_size, testData)"
      ],
      "execution_count": null,
      "outputs": [
        {
          "output_type": "execute_result",
          "data": {
            "text/plain": [
              "68.72957516339869"
            ]
          },
          "metadata": {
            "tags": []
          },
          "execution_count": 28
        }
      ]
    }
  ]
}